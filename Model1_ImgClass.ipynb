{
 "cells": [
  {
   "cell_type": "code",
   "execution_count": null,
   "metadata": {},
   "outputs": [],
   "source": [
    "import tensorflow as tf\n",
    "import tensorflow_hub as hub\n",
    "import numpy as np\n",
    "from PIL import Image\n",
    "import ast\n",
    "\n",
    "# Load the pre-trained model\n",
    "model = hub.KerasLayer('https://tfhub.dev/google/imagenet/inception_v3/classification/5')\n",
    "\n",
    "# Load the image\n",
    "img = Image.open('data_set/test/test1.jpg') # space bar (46.57%)\n",
    "#img = Image.open('data_set/test/test2.jpg') # corkscrew (23.56%)\n",
    "#img = Image.open('data_set/test/test3.jpg') # loupe (magnifying glass) (97.75%)\n",
    "#img = Image.open('data_set/test/test4.jpg') # mouse (94.15%)\n",
    "#img = Image.open('data_set/test/test5.jpg') # notebook (31.46%)\n",
    "#img = Image.open('data_set/test/test6.jpg') # remote control (9.45%)\n",
    "#img = Image.open('data_set/test/test7.jpg') # radio (89.58%)\n",
    "#img = Image.open('data_set/test/test8.jpg') # solar dish (80.56%)\n",
    "#img = Image.open('data_set/test/test9.jpg') # turnstile (44.10%)\n",
    "#img = Image.open('data_set/test/test10.jpg') # loudspeaker (14.19%)\n",
    "\n",
    "img = img.resize((299, 299))\n",
    "img_array = np.array(img) / 255.0\n",
    "img_array = np.expand_dims(img_array, axis=0)\n",
    "\n",
    "# Classify the image\n",
    "result = model(img_array)\n",
    "probabilities = tf.nn.softmax(result)\n",
    "\n",
    "# Get the predicted class and top 5 predictions\n",
    "imagenet_labels = ast.literal_eval(open('data_set/imagenet_labels.txt').read())\n",
    "predicted_class = tf.argmax(result[0], axis=-1).numpy()\n",
    "predicted_label = imagenet_labels[predicted_class]\n",
    "\n",
    "# Print the results\n",
    "print('Predicted class: {} ({:.2f}%)'.format(predicted_label, 100 * np.max(probabilities)))"
   ]
  },
  {
   "attachments": {},
   "cell_type": "markdown",
   "metadata": {},
   "source": [
    "Model 1 - Image Classification\n",
    "tensorflow - build and train the model\n",
    "tensorflow_hub - pre-trained model\n",
    "hub.KerasLayer('https://tfhub.dev/google/imagenet/inception_v3/classification/5') - loads the pre-trained Inception V3 model from TensorFlow Hub\n",
    "img.resize((299, 299)) - resizes the image to a fixed size of 299x299 pixels (value needed for Inception V3 model)\n",
    "np.array(img) / 255.0 - converts the image to a array and normalizes the pixel values to be between 0 and 1 (to make the image compatible with the input format of the Inception V3 model)\n",
    "np.expand_dims(img_array, axis=0) - adds a new dimension (batch size = 1) to the array to make it compatible with the input format of the Inception V3 model.\n",
    "model(img_array) - passes the image in the model to obtain the predicted probabilities for each class\n",
    "tf.nn.softmax(result) - convert the logits into probabilities\n",
    "*ast.literal_eval(open('imagenet_labels.txt').read()) *- loads a list of ImageNet class labels (literal_eval function is used to safely evaluate the contents of the list)\n",
    "tf.argmax(result[0], axis=-1).numpy() - finds the index of the class with the highest predicted probability. [0] access the image in the batch;axis=-1 specifies that the argmax operation should be performed along the last dimension of the array; numpy() converts the TensorFlow tensor to a NumPy array\n",
    "imagenet_labels[predicted_class] - finds the predicted class label of the index of the highest predicted probability"
   ]
  }
 ],
 "metadata": {
  "language_info": {
   "name": "python"
  },
  "orig_nbformat": 4
 },
 "nbformat": 4,
 "nbformat_minor": 2
}
