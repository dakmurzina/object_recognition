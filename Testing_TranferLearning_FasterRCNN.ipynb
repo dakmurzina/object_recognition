{
  "nbformat": 4,
  "nbformat_minor": 0,
  "metadata": {
    "colab": {
      "provenance": []
    },
    "kernelspec": {
      "name": "python3",
      "display_name": "Python 3"
    },
    "language_info": {
      "name": "python"
    }
  },
  "cells": [
    {
      "cell_type": "code",
      "source": [
        "!pip install torch_snippets"
      ],
      "metadata": {
        "colab": {
          "base_uri": "https://localhost:8080/",
          "height": 1000
        },
        "id": "vudQvVgCz2dN",
        "outputId": "27b58b95-d833-4027-a202-de50353e88f4"
      },
      "execution_count": 1,
      "outputs": [
        {
          "output_type": "stream",
          "name": "stdout",
          "text": [
            "Looking in indexes: https://pypi.org/simple, https://us-python.pkg.dev/colab-wheels/public/simple/\n",
            "Collecting torch_snippets\n",
            "  Downloading torch_snippets-0.499.25-py3-none-any.whl (55 kB)\n",
            "\u001b[2K     \u001b[90m━━━━━━━━━━━━━━━━━━━━━━━━━━━━━━━━━━━━━━━━\u001b[0m \u001b[32m55.7/55.7 KB\u001b[0m \u001b[31m2.6 MB/s\u001b[0m eta \u001b[36m0:00:00\u001b[0m\n",
            "\u001b[?25hCollecting python-Levenshtein\n",
            "  Downloading python_Levenshtein-0.20.9-py3-none-any.whl (9.4 kB)\n",
            "Requirement already satisfied: srsly in /usr/local/lib/python3.9/dist-packages (from torch_snippets) (2.4.6)\n",
            "Requirement already satisfied: matplotlib in /usr/local/lib/python3.9/dist-packages (from torch_snippets) (3.7.1)\n",
            "Collecting loguru\n",
            "  Downloading loguru-0.6.0-py3-none-any.whl (58 kB)\n",
            "\u001b[2K     \u001b[90m━━━━━━━━━━━━━━━━━━━━━━━━━━━━━━━━━━━━━━━━\u001b[0m \u001b[32m58.3/58.3 KB\u001b[0m \u001b[31m5.9 MB/s\u001b[0m eta \u001b[36m0:00:00\u001b[0m\n",
            "\u001b[?25hRequirement already satisfied: numpy in /usr/local/lib/python3.9/dist-packages (from torch_snippets) (1.22.4)\n",
            "Requirement already satisfied: tqdm in /usr/local/lib/python3.9/dist-packages (from torch_snippets) (4.65.0)\n",
            "Requirement already satisfied: wasabi in /usr/local/lib/python3.9/dist-packages (from torch_snippets) (1.1.1)\n",
            "Collecting jsonlines\n",
            "  Downloading jsonlines-3.1.0-py3-none-any.whl (8.6 kB)\n",
            "Collecting fuzzywuzzy\n",
            "  Downloading fuzzywuzzy-0.18.0-py2.py3-none-any.whl (18 kB)\n",
            "Requirement already satisfied: imgaug>=0.4.0 in /usr/local/lib/python3.9/dist-packages (from torch_snippets) (0.4.0)\n",
            "Requirement already satisfied: pydantic in /usr/local/lib/python3.9/dist-packages (from torch_snippets) (1.10.6)\n",
            "Collecting lovely-tensors\n",
            "  Downloading lovely_tensors-0.1.14-py3-none-any.whl (16 kB)\n",
            "Requirement already satisfied: pandas in /usr/local/lib/python3.9/dist-packages (from torch_snippets) (1.4.4)\n",
            "Requirement already satisfied: catalogue in /usr/local/lib/python3.9/dist-packages (from torch_snippets) (2.0.8)\n",
            "Requirement already satisfied: nltk in /usr/local/lib/python3.9/dist-packages (from torch_snippets) (3.8.1)\n",
            "Requirement already satisfied: ipython in /usr/local/lib/python3.9/dist-packages (from torch_snippets) (7.9.0)\n",
            "Requirement already satisfied: confection in /usr/local/lib/python3.9/dist-packages (from torch_snippets) (0.0.4)\n",
            "Requirement already satisfied: typing-extensions in /usr/local/lib/python3.9/dist-packages (from torch_snippets) (4.5.0)\n",
            "Collecting pre-commit\n",
            "  Downloading pre_commit-3.2.0-py2.py3-none-any.whl (202 kB)\n",
            "\u001b[2K     \u001b[90m━━━━━━━━━━━━━━━━━━━━━━━━━━━━━━━━━━━━━━\u001b[0m \u001b[32m202.7/202.7 KB\u001b[0m \u001b[31m11.0 MB/s\u001b[0m eta \u001b[36m0:00:00\u001b[0m\n",
            "\u001b[?25hCollecting pymupdf\n",
            "  Downloading PyMuPDF-1.21.1-cp39-cp39-manylinux_2_17_x86_64.manylinux2014_x86_64.whl (14.0 MB)\n",
            "\u001b[2K     \u001b[90m━━━━━━━━━━━━━━━━━━━━━━━━━━━━━━━━━━━━━━━━\u001b[0m \u001b[32m14.0/14.0 MB\u001b[0m \u001b[31m63.0 MB/s\u001b[0m eta \u001b[36m0:00:00\u001b[0m\n",
            "\u001b[?25hCollecting rich\n",
            "  Downloading rich-13.3.2-py3-none-any.whl (238 kB)\n",
            "\u001b[2K     \u001b[90m━━━━━━━━━━━━━━━━━━━━━━━━━━━━━━━━━━━━━━\u001b[0m \u001b[32m238.7/238.7 KB\u001b[0m \u001b[31m20.7 MB/s\u001b[0m eta \u001b[36m0:00:00\u001b[0m\n",
            "\u001b[?25hRequirement already satisfied: Pillow in /usr/local/lib/python3.9/dist-packages (from torch_snippets) (8.4.0)\n",
            "Requirement already satisfied: fastcore in /usr/local/lib/python3.9/dist-packages (from torch_snippets) (1.5.28)\n",
            "Requirement already satisfied: scikit-learn in /usr/local/lib/python3.9/dist-packages (from torch_snippets) (1.2.2)\n",
            "Collecting dill\n",
            "  Downloading dill-0.3.6-py3-none-any.whl (110 kB)\n",
            "\u001b[2K     \u001b[90m━━━━━━━━━━━━━━━━━━━━━━━━━━━━━━━━━━━━━━\u001b[0m \u001b[32m110.5/110.5 KB\u001b[0m \u001b[31m12.0 MB/s\u001b[0m eta \u001b[36m0:00:00\u001b[0m\n",
            "\u001b[?25hCollecting xmltodict\n",
            "  Downloading xmltodict-0.13.0-py2.py3-none-any.whl (10.0 kB)\n",
            "Requirement already satisfied: PyYAML in /usr/local/lib/python3.9/dist-packages (from torch_snippets) (6.0)\n",
            "Collecting typing\n",
            "  Downloading typing-3.7.4.3.tar.gz (78 kB)\n",
            "\u001b[2K     \u001b[90m━━━━━━━━━━━━━━━━━━━━━━━━━━━━━━━━━━━━━━━━\u001b[0m \u001b[32m78.6/78.6 KB\u001b[0m \u001b[31m6.5 MB/s\u001b[0m eta \u001b[36m0:00:00\u001b[0m\n",
            "\u001b[?25h  Preparing metadata (setup.py) ... \u001b[?25l\u001b[?25hdone\n",
            "Requirement already satisfied: altair in /usr/local/lib/python3.9/dist-packages (from torch_snippets) (4.2.2)\n",
            "Requirement already satisfied: scipy in /usr/local/lib/python3.9/dist-packages (from imgaug>=0.4.0->torch_snippets) (1.10.1)\n",
            "Requirement already satisfied: six in /usr/local/lib/python3.9/dist-packages (from imgaug>=0.4.0->torch_snippets) (1.16.0)\n",
            "Requirement already satisfied: imageio in /usr/local/lib/python3.9/dist-packages (from imgaug>=0.4.0->torch_snippets) (2.25.1)\n",
            "Requirement already satisfied: scikit-image>=0.14.2 in /usr/local/lib/python3.9/dist-packages (from imgaug>=0.4.0->torch_snippets) (0.19.3)\n",
            "Requirement already satisfied: opencv-python in /usr/local/lib/python3.9/dist-packages (from imgaug>=0.4.0->torch_snippets) (4.7.0.72)\n",
            "Requirement already satisfied: Shapely in /usr/local/lib/python3.9/dist-packages (from imgaug>=0.4.0->torch_snippets) (2.0.1)\n",
            "Requirement already satisfied: jinja2 in /usr/local/lib/python3.9/dist-packages (from altair->torch_snippets) (3.1.2)\n",
            "Requirement already satisfied: jsonschema>=3.0 in /usr/local/lib/python3.9/dist-packages (from altair->torch_snippets) (4.3.3)\n",
            "Requirement already satisfied: toolz in /usr/local/lib/python3.9/dist-packages (from altair->torch_snippets) (0.12.0)\n",
            "Requirement already satisfied: entrypoints in /usr/local/lib/python3.9/dist-packages (from altair->torch_snippets) (0.4)\n",
            "Requirement already satisfied: python-dateutil>=2.8.1 in /usr/local/lib/python3.9/dist-packages (from pandas->torch_snippets) (2.8.2)\n",
            "Requirement already satisfied: pytz>=2020.1 in /usr/local/lib/python3.9/dist-packages (from pandas->torch_snippets) (2022.7.1)\n",
            "Requirement already satisfied: packaging in /usr/local/lib/python3.9/dist-packages (from fastcore->torch_snippets) (23.0)\n",
            "Requirement already satisfied: pip in /usr/local/lib/python3.9/dist-packages (from fastcore->torch_snippets) (22.0.4)\n",
            "Requirement already satisfied: pickleshare in /usr/local/lib/python3.9/dist-packages (from ipython->torch_snippets) (0.7.5)\n",
            "Requirement already satisfied: setuptools>=18.5 in /usr/local/lib/python3.9/dist-packages (from ipython->torch_snippets) (67.6.0)\n",
            "Collecting jedi>=0.10\n",
            "  Downloading jedi-0.18.2-py2.py3-none-any.whl (1.6 MB)\n",
            "\u001b[2K     \u001b[90m━━━━━━━━━━━━━━━━━━━━━━━━━━━━━━━━━━━━━━━━\u001b[0m \u001b[32m1.6/1.6 MB\u001b[0m \u001b[31m51.0 MB/s\u001b[0m eta \u001b[36m0:00:00\u001b[0m\n",
            "\u001b[?25hRequirement already satisfied: pygments in /usr/local/lib/python3.9/dist-packages (from ipython->torch_snippets) (2.6.1)\n",
            "Requirement already satisfied: decorator in /usr/local/lib/python3.9/dist-packages (from ipython->torch_snippets) (4.4.2)\n",
            "Requirement already satisfied: pexpect in /usr/local/lib/python3.9/dist-packages (from ipython->torch_snippets) (4.8.0)\n",
            "Requirement already satisfied: prompt-toolkit<2.1.0,>=2.0.0 in /usr/local/lib/python3.9/dist-packages (from ipython->torch_snippets) (2.0.10)\n",
            "Requirement already satisfied: backcall in /usr/local/lib/python3.9/dist-packages (from ipython->torch_snippets) (0.2.0)\n",
            "Requirement already satisfied: traitlets>=4.2 in /usr/local/lib/python3.9/dist-packages (from ipython->torch_snippets) (5.7.1)\n",
            "Requirement already satisfied: attrs>=19.2.0 in /usr/local/lib/python3.9/dist-packages (from jsonlines->torch_snippets) (22.2.0)\n",
            "Requirement already satisfied: torch in /usr/local/lib/python3.9/dist-packages (from lovely-tensors->torch_snippets) (1.13.1+cu116)\n",
            "Collecting lovely-numpy>=0.2.8\n",
            "  Downloading lovely_numpy-0.2.8-py3-none-any.whl (23 kB)\n",
            "Requirement already satisfied: pyparsing>=2.3.1 in /usr/local/lib/python3.9/dist-packages (from matplotlib->torch_snippets) (3.0.9)\n",
            "Requirement already satisfied: kiwisolver>=1.0.1 in /usr/local/lib/python3.9/dist-packages (from matplotlib->torch_snippets) (1.4.4)\n",
            "Requirement already satisfied: contourpy>=1.0.1 in /usr/local/lib/python3.9/dist-packages (from matplotlib->torch_snippets) (1.0.7)\n",
            "Requirement already satisfied: importlib-resources>=3.2.0 in /usr/local/lib/python3.9/dist-packages (from matplotlib->torch_snippets) (5.12.0)\n",
            "Requirement already satisfied: fonttools>=4.22.0 in /usr/local/lib/python3.9/dist-packages (from matplotlib->torch_snippets) (4.39.2)\n",
            "Requirement already satisfied: cycler>=0.10 in /usr/local/lib/python3.9/dist-packages (from matplotlib->torch_snippets) (0.11.0)\n",
            "Requirement already satisfied: click in /usr/local/lib/python3.9/dist-packages (from nltk->torch_snippets) (8.1.3)\n",
            "Requirement already satisfied: joblib in /usr/local/lib/python3.9/dist-packages (from nltk->torch_snippets) (1.1.1)\n",
            "Requirement already satisfied: regex>=2021.8.3 in /usr/local/lib/python3.9/dist-packages (from nltk->torch_snippets) (2022.10.31)\n",
            "Collecting nodeenv>=0.11.1\n",
            "  Downloading nodeenv-1.7.0-py2.py3-none-any.whl (21 kB)\n",
            "Collecting cfgv>=2.0.0\n",
            "  Downloading cfgv-3.3.1-py2.py3-none-any.whl (7.3 kB)\n",
            "Collecting identify>=1.0.0\n",
            "  Downloading identify-2.5.21-py2.py3-none-any.whl (98 kB)\n",
            "\u001b[2K     \u001b[90m━━━━━━━━━━━━━━━━━━━━━━━━━━━━━━━━━━━━━━━━\u001b[0m \u001b[32m98.8/98.8 KB\u001b[0m \u001b[31m11.1 MB/s\u001b[0m eta \u001b[36m0:00:00\u001b[0m\n",
            "\u001b[?25hCollecting virtualenv>=20.10.0\n",
            "  Downloading virtualenv-20.21.0-py3-none-any.whl (8.7 MB)\n",
            "\u001b[2K     \u001b[90m━━━━━━━━━━━━━━━━━━━━━━━━━━━━━━━━━━━━━━━━\u001b[0m \u001b[32m8.7/8.7 MB\u001b[0m \u001b[31m77.5 MB/s\u001b[0m eta \u001b[36m0:00:00\u001b[0m\n",
            "\u001b[?25hCollecting Levenshtein==0.20.9\n",
            "  Downloading Levenshtein-0.20.9-cp39-cp39-manylinux_2_17_x86_64.manylinux2014_x86_64.whl (175 kB)\n",
            "\u001b[2K     \u001b[90m━━━━━━━━━━━━━━━━━━━━━━━━━━━━━━━━━━━━━━\u001b[0m \u001b[32m175.5/175.5 KB\u001b[0m \u001b[31m15.6 MB/s\u001b[0m eta \u001b[36m0:00:00\u001b[0m\n",
            "\u001b[?25hCollecting rapidfuzz<3.0.0,>=2.3.0\n",
            "  Downloading rapidfuzz-2.13.7-cp39-cp39-manylinux_2_17_x86_64.manylinux2014_x86_64.whl (2.2 MB)\n",
            "\u001b[2K     \u001b[90m━━━━━━━━━━━━━━━━━━━━━━━━━━━━━━━━━━━━━━━━\u001b[0m \u001b[32m2.2/2.2 MB\u001b[0m \u001b[31m60.5 MB/s\u001b[0m eta \u001b[36m0:00:00\u001b[0m\n",
            "\u001b[?25hCollecting pygments\n",
            "  Downloading Pygments-2.14.0-py3-none-any.whl (1.1 MB)\n",
            "\u001b[2K     \u001b[90m━━━━━━━━━━━━━━━━━━━━━━━━━━━━━━━━━━━━━━━━\u001b[0m \u001b[32m1.1/1.1 MB\u001b[0m \u001b[31m51.9 MB/s\u001b[0m eta \u001b[36m0:00:00\u001b[0m\n",
            "\u001b[?25hCollecting markdown-it-py<3.0.0,>=2.2.0\n",
            "  Downloading markdown_it_py-2.2.0-py3-none-any.whl (84 kB)\n",
            "\u001b[2K     \u001b[90m━━━━━━━━━━━━━━━━━━━━━━━━━━━━━━━━━━━━━━━━\u001b[0m \u001b[32m84.5/84.5 KB\u001b[0m \u001b[31m9.2 MB/s\u001b[0m eta \u001b[36m0:00:00\u001b[0m\n",
            "\u001b[?25hRequirement already satisfied: threadpoolctl>=2.0.0 in /usr/local/lib/python3.9/dist-packages (from scikit-learn->torch_snippets) (3.1.0)\n",
            "Requirement already satisfied: zipp>=3.1.0 in /usr/local/lib/python3.9/dist-packages (from importlib-resources>=3.2.0->matplotlib->torch_snippets) (3.15.0)\n",
            "Requirement already satisfied: parso<0.9.0,>=0.8.0 in /usr/local/lib/python3.9/dist-packages (from jedi>=0.10->ipython->torch_snippets) (0.8.3)\n",
            "Requirement already satisfied: pyrsistent!=0.17.0,!=0.17.1,!=0.17.2,>=0.14.0 in /usr/local/lib/python3.9/dist-packages (from jsonschema>=3.0->altair->torch_snippets) (0.19.3)\n",
            "Collecting mdurl~=0.1\n",
            "  Downloading mdurl-0.1.2-py3-none-any.whl (10.0 kB)\n",
            "Requirement already satisfied: wcwidth in /usr/local/lib/python3.9/dist-packages (from prompt-toolkit<2.1.0,>=2.0.0->ipython->torch_snippets) (0.2.6)\n",
            "Requirement already satisfied: networkx>=2.2 in /usr/local/lib/python3.9/dist-packages (from scikit-image>=0.14.2->imgaug>=0.4.0->torch_snippets) (3.0)\n",
            "Requirement already satisfied: tifffile>=2019.7.26 in /usr/local/lib/python3.9/dist-packages (from scikit-image>=0.14.2->imgaug>=0.4.0->torch_snippets) (2023.3.15)\n",
            "Requirement already satisfied: PyWavelets>=1.1.1 in /usr/local/lib/python3.9/dist-packages (from scikit-image>=0.14.2->imgaug>=0.4.0->torch_snippets) (1.4.1)\n",
            "Requirement already satisfied: platformdirs<4,>=2.4 in /usr/local/lib/python3.9/dist-packages (from virtualenv>=20.10.0->pre-commit->torch_snippets) (3.1.1)\n",
            "Requirement already satisfied: filelock<4,>=3.4.1 in /usr/local/lib/python3.9/dist-packages (from virtualenv>=20.10.0->pre-commit->torch_snippets) (3.10.0)\n",
            "Collecting distlib<1,>=0.3.6\n",
            "  Downloading distlib-0.3.6-py2.py3-none-any.whl (468 kB)\n",
            "\u001b[2K     \u001b[90m━━━━━━━━━━━━━━━━━━━━━━━━━━━━━━━━━━━━━━\u001b[0m \u001b[32m468.5/468.5 KB\u001b[0m \u001b[31m39.0 MB/s\u001b[0m eta \u001b[36m0:00:00\u001b[0m\n",
            "\u001b[?25hRequirement already satisfied: MarkupSafe>=2.0 in /usr/local/lib/python3.9/dist-packages (from jinja2->altair->torch_snippets) (2.1.2)\n",
            "Requirement already satisfied: ptyprocess>=0.5 in /usr/local/lib/python3.9/dist-packages (from pexpect->ipython->torch_snippets) (0.7.0)\n",
            "Building wheels for collected packages: typing\n",
            "  Building wheel for typing (setup.py) ... \u001b[?25l\u001b[?25hdone\n",
            "  Created wheel for typing: filename=typing-3.7.4.3-py3-none-any.whl size=26321 sha256=3c3cfbb35fa69a03bd43efaee7ec4ccf2a3c9c84a7cc7781cd362d0c90398683\n",
            "  Stored in directory: /root/.cache/pip/wheels/fa/17/1f/332799f975d1b2d7f9b3f33bbccf65031e794717d24432caee\n",
            "Successfully built typing\n",
            "Installing collected packages: fuzzywuzzy, distlib, xmltodict, virtualenv, typing, rapidfuzz, pymupdf, pygments, nodeenv, mdurl, loguru, jsonlines, jedi, identify, dill, cfgv, pre-commit, markdown-it-py, Levenshtein, rich, python-Levenshtein, lovely-numpy, lovely-tensors, torch_snippets\n",
            "  Attempting uninstall: pygments\n",
            "    Found existing installation: Pygments 2.6.1\n",
            "    Uninstalling Pygments-2.6.1:\n",
            "      Successfully uninstalled Pygments-2.6.1\n",
            "Successfully installed Levenshtein-0.20.9 cfgv-3.3.1 dill-0.3.6 distlib-0.3.6 fuzzywuzzy-0.18.0 identify-2.5.21 jedi-0.18.2 jsonlines-3.1.0 loguru-0.6.0 lovely-numpy-0.2.8 lovely-tensors-0.1.14 markdown-it-py-2.2.0 mdurl-0.1.2 nodeenv-1.7.0 pre-commit-3.2.0 pygments-2.14.0 pymupdf-1.21.1 python-Levenshtein-0.20.9 rapidfuzz-2.13.7 rich-13.3.2 torch_snippets-0.499.25 typing-3.7.4.3 virtualenv-20.21.0 xmltodict-0.13.0\n"
          ]
        },
        {
          "output_type": "display_data",
          "data": {
            "application/vnd.colab-display-data+json": {
              "pip_warning": {
                "packages": [
                  "pygments",
                  "typing"
                ]
              }
            }
          },
          "metadata": {}
        }
      ]
    },
    {
      "cell_type": "code",
      "source": [
        "import matplotlib.pyplot as plt\n",
        "import matplotlib.patches as patches\n",
        "\n",
        "import numpy as np\n",
        "import PIL\n",
        "\n",
        "from sklearn.model_selection import train_test_split\n",
        "import torch\n",
        "import torchvision\n",
        "import torch_snippets\n",
        "\n",
        "import os\n",
        "import time\n",
        "import xml.etree.ElementTree as ET\n",
        "\n",
        "if torch.cuda.is_available():\n",
        "    device = torch.device(\"cuda\")\n",
        "else:\n",
        "    device = torch.device(\"cpu\")"
      ],
      "metadata": {
        "id": "YZludjaYzxsb"
      },
      "execution_count": 2,
      "outputs": []
    },
    {
      "cell_type": "code",
      "source": [
        "def xml_to_dict(xml_path):\n",
        "    tree = ET.parse(xml_path)\n",
        "    root = tree.getroot()\n",
        "\n",
        "    return {'filename': xml_path,\n",
        "            \"image_width\": int(root.find(\"./size/width\").text),\n",
        "            \"image_height\": int(root.find(\"./size/height\").text),\n",
        "            \"image_channels\": int(root.find(\"./size/depth\").text),\n",
        "            \"label\": root.find(\"./object/name\").text,\n",
        "            \"x1\": int(root.find(\"./object/bndbox/xmin\").text),\n",
        "            \"y1\": int(root.find(\"./object/bndbox/ymin\").text),\n",
        "            \"x2\": int(root.find(\"./object/bndbox/xmax\").text),\n",
        "            \"y2\": int(root.find(\"./object/bndbox/ymax\").text)}"
      ],
      "metadata": {
        "id": "rv1D3LHJz8wI"
      },
      "execution_count": 3,
      "outputs": []
    },
    {
      "cell_type": "code",
      "execution_count": 4,
      "metadata": {
        "id": "nI-KMmjbzj7U"
      },
      "outputs": [],
      "source": [
        "# Convert human readable str label to int.\n",
        "label_dict = {\"keyboard\": 1, \"key\": 2, \"laptop\": 3, \"magnifying-glass\":4, \"mouse\":5, \"phone\":6 }\n",
        "# Convert label int to human readable str.\n",
        "reverse_label_dict = {1: \"keyboard\", 2: \"key\", 3: \"laptop\", 4: \"magnifying-glass\", 5: \"mouse\", 6: \"phone\"}\n",
        "\n",
        "class ImageDataset(torch.utils.data.Dataset):\n",
        "    def __init__(self, root, transforms = None):\n",
        "        \"\"\"\n",
        "        Inputs\n",
        "            root: str\n",
        "                Path to the data folder.\n",
        "            transforms: Compose or list\n",
        "                Torchvision image transformations.\n",
        "        \"\"\"\n",
        "        self.root = root\n",
        "        self.transforms = transforms\n",
        "        self.files = [image[:-4] for image in sorted(os.listdir(root)) if image[-4:]=='.jpg']\n",
        "        self.label_dict = label_dict\n",
        "    def __getitem__(self, i):\n",
        "        # Load image from the hard disc.\n",
        "        img = PIL.Image.open(os.path.join(self.root, self.files[i] + \".jpg\")).convert(\"RGB\")\n",
        "        # Load annotation file from the hard disc.\n",
        "        ann = xml_to_dict(os.path.join(self.root, self.files[i] + \".xml\"))\n",
        "        # The target is given as a dict.\n",
        "        target = {}\n",
        "        target[\"boxes\"] = torch.as_tensor([[ann[\"x1\"], \n",
        "                                            ann[\"y1\"], \n",
        "                                            ann[\"x2\"], \n",
        "                                            ann[\"y2\"]]], \n",
        "                                   dtype = torch.float32)\n",
        "        target[\"labels\"]=torch.as_tensor([label_dict[ann[\"label\"]]],\n",
        "                         dtype = torch.int64)\n",
        "        target[\"image_id\"] = torch.as_tensor(i)\n",
        "        # Apply any transforms to the data if required.\n",
        "        if self.transforms is not None:\n",
        "            img, target = self.transforms(img, target)\n",
        "        return img, target\n",
        "    def __len__(self):\n",
        "        return len(self.files)"
      ]
    },
    {
      "cell_type": "code",
      "source": [
        "import torchvision.transforms.functional as F\n",
        "import torchvision.transforms.transforms as T\n",
        "class Compose:\n",
        "    \"\"\"\n",
        "    Composes several torchvision image transforms \n",
        "    as a sequence of transformations.\n",
        "    Inputs\n",
        "        transforms: list\n",
        "            List of torchvision image transformations.\n",
        "    Returns\n",
        "        image: tensor\n",
        "        target: dict\n",
        "    \"\"\"\n",
        "    def __init__(self, transforms = []):\n",
        "        self.transforms = transforms\n",
        "    # __call__ sequentially performs the image transformations on\n",
        "    # the input image, and returns the augmented image.\n",
        "    def __call__(self, image, target):\n",
        "        for t in self.transforms:\n",
        "            image, target = t(image, target)\n",
        "        return image, target"
      ],
      "metadata": {
        "id": "jj2Ltq6c0HHK"
      },
      "execution_count": 5,
      "outputs": []
    },
    {
      "cell_type": "code",
      "source": [
        "class ToTensor(torch.nn.Module):\n",
        "    \"\"\"\n",
        "    Converts a PIL image into a torch tensor.\n",
        "    Inputs\n",
        "        image: PIL Image\n",
        "        target: dict\n",
        "    Returns\n",
        "        image: tensor\n",
        "        target: dict\n",
        "    \"\"\"\n",
        "    def forward(self, image, target = None):\n",
        "        image = F.pil_to_tensor(image)\n",
        "        image = F.convert_image_dtype(image)\n",
        "        return image, target\n",
        "class RandomHorizontalFlip(T.RandomHorizontalFlip):\n",
        "    \"\"\"\n",
        "    Randomly flips an image horizontally.\n",
        "    Inputs\n",
        "        image: tensor\n",
        "        target: dict\n",
        "    Returns\n",
        "        image: tensor\n",
        "        target: dict\n",
        "    \"\"\"\n",
        "    def forward(self, image, target = None):\n",
        "        if torch.rand(1) < self.p:\n",
        "            image = F.hflip(image)\n",
        "            if target is not None:\n",
        "                width, _ = F.get_image_size(image)\n",
        "                target[\"boxes\"][:, [0, 2]] = width - \\\n",
        "                                     target[\"boxes\"][:, [2, 0]]\n",
        "        return image, target"
      ],
      "metadata": {
        "id": "aVIi8oJ00K0Q"
      },
      "execution_count": 6,
      "outputs": []
    },
    {
      "cell_type": "code",
      "source": [
        "def get_transform(train):\n",
        "    \"\"\"\n",
        "    Transforms a PIL Image into a torch tensor, and performs\n",
        "    random horizontal flipping of the image if training a model.\n",
        "    Inputs\n",
        "        train: bool\n",
        "            Flag indicating whether model training will occur.\n",
        "    Returns\n",
        "        compose: Compose\n",
        "            Composition of image transforms.\n",
        "    \"\"\"\n",
        "    transforms = []\n",
        "    # ToTensor is applied to all images.\n",
        "    transforms.append(ToTensor())\n",
        "    # The following transforms are applied only to the train set.\n",
        "    if train == True:\n",
        "        transforms.append(RandomHorizontalFlip(0.5))\n",
        "        # Other transforms can be added here later on.\n",
        "    return Compose(transforms)"
      ],
      "metadata": {
        "id": "OfP8H9730QQW"
      },
      "execution_count": 7,
      "outputs": []
    },
    {
      "cell_type": "code",
      "source": [
        "def unbatch(batch, device):\n",
        "    \"\"\"\n",
        "    Unbatches a batch of data from the Dataloader.\n",
        "    Inputs\n",
        "        batch: tuple\n",
        "            Tuple containing a batch from the Dataloader.\n",
        "        device: str\n",
        "            Indicates which device (CPU/GPU) to use.\n",
        "    Returns\n",
        "        X: list\n",
        "            List of images.\n",
        "        y: list\n",
        "            List of dictionaries.\n",
        "    \"\"\"\n",
        "    X, y = batch\n",
        "    X = [x.to(device) for x in X]\n",
        "    y = [{k: v.to(device) for k, v in t.items()} for t in y]\n",
        "    return X, y\n",
        "def train_batch(batch, model, optimizer, device):\n",
        "    \"\"\"\n",
        "    Uses back propagation to train a model.\n",
        "    Inputs\n",
        "        batch: tuple\n",
        "            Tuple containing a batch from the Dataloader.\n",
        "        model: torch model\n",
        "        optimizer: torch optimizer\n",
        "        device: str\n",
        "            Indicates which device (CPU/GPU) to use.\n",
        "    Returns\n",
        "        loss: float\n",
        "            Sum of the batch losses.\n",
        "        losses: dict\n",
        "            Dictionary containing the individual losses.\n",
        "    \"\"\"\n",
        "    model.train()\n",
        "    X, y = unbatch(batch, device = device)\n",
        "    optimizer.zero_grad()\n",
        "    losses = model(X, y)\n",
        "    loss = sum(loss for loss in losses.values())\n",
        "    loss.backward()\n",
        "    optimizer.step()\n",
        "    return loss, losses\n",
        "@torch.no_grad()\n",
        "def validate_batch(batch, model, optimizer, device):\n",
        "    \"\"\"\n",
        "    Evaluates a model's loss value using validation data.\n",
        "    Inputs\n",
        "        batch: tuple\n",
        "            Tuple containing a batch from the Dataloader.\n",
        "        model: torch model\n",
        "        optimizer: torch optimizer\n",
        "        device: str\n",
        "            Indicates which device (CPU/GPU) to use.\n",
        "    Returns\n",
        "        loss: float\n",
        "            Sum of the batch losses.\n",
        "        losses: dict\n",
        "            Dictionary containing the individual losses.\n",
        "    \"\"\"\n",
        "    model.train()\n",
        "    X, y = unbatch(batch, device = device)\n",
        "    optimizer.zero_grad()\n",
        "    losses = model(X, y)\n",
        "    loss = sum(loss for loss in losses.values())\n",
        "    return loss, losses"
      ],
      "metadata": {
        "id": "gnR-9j2P4hls"
      },
      "execution_count": 8,
      "outputs": []
    },
    {
      "cell_type": "code",
      "source": [
        "test_ds = ImageDataset(\"./data/test\", get_transform(train = False))"
      ],
      "metadata": {
        "id": "NKt-8Qxt0ThG"
      },
      "execution_count": 9,
      "outputs": []
    },
    {
      "cell_type": "code",
      "source": [
        "# Randomly shuffle all the data.\n",
        "indices = torch.randperm(len(test_ds)).tolist()\n",
        "# We split the entire data into 80/20 train-test splits. We further\n",
        "# split the train set into 80/20 train-validation splits. \n",
        "# Train dataset: 64% of the entire data, or 80% of 80%.\n",
        "# train_ds = torch.utils.data.Subset(train_ds,\n",
        "#            indices[:int(len(indices) * 0.64)])\n",
        "# # Validation dataset: 16% of the entire data, or 20% of 80%.\n",
        "# val_ds = torch.utils.data.Subset(val_ds, \n",
        "#          indices[int(len(indices) * 0.64):int(len(indices) * 0.8)])\n",
        "# Test dataset: 20% of the entire data.\n",
        "test_ds = torch.utils.data.Subset(test_ds, \n",
        "          indices[int(len(indices) * 0.8):])"
      ],
      "metadata": {
        "id": "tloLA7cs0omj"
      },
      "execution_count": 10,
      "outputs": []
    },
    {
      "cell_type": "code",
      "source": [
        "# Collate image-target pairs into a tuple.\n",
        "def collate_fn(batch):\n",
        "    return tuple(zip(*batch))\n",
        "# Create the DataLoaders from the Datasets. \n",
        "# train_dl = torch.utils.data.DataLoader(train_ds, \n",
        "#                                  batch_size = 4, \n",
        "#                                  shuffle = True, \n",
        "#                         collate_fn = collate_fn)\n",
        "# val_dl = torch.utils.data.DataLoader(val_ds, \n",
        "#                              batch_size = 4, \n",
        "#                             shuffle = False, \n",
        "#                     collate_fn = collate_fn)\n",
        "test_dl = torch.utils.data.DataLoader(test_ds, \n",
        "                               batch_size = 4, \n",
        "                              shuffle = False, \n",
        "                      collate_fn = collate_fn)"
      ],
      "metadata": {
        "id": "2a1o46fQ0-2V"
      },
      "execution_count": 11,
      "outputs": []
    },
    {
      "cell_type": "code",
      "source": [
        "@torch.no_grad()\n",
        "def predict_batch(batch, model, device):\n",
        "    \"\"\"\n",
        "    Gets the predictions for a batch of data.\n",
        "    Inputs\n",
        "        batch: tuple\n",
        "            Tuple containing a batch from the Dataloader.\n",
        "        model: torch model\n",
        "        device: str\n",
        "            Indicates which device (CPU/GPU) to use.\n",
        "    Returns\n",
        "        images: list\n",
        "            List of tensors of the images.\n",
        "        predictions: list\n",
        "            List of dicts containing the predictions for the \n",
        "            bounding boxes, labels and confidence scores.\n",
        "    \"\"\"\n",
        "    model.to(device)\n",
        "    model.eval()\n",
        "    X, _ = unbatch(batch, device = device)\n",
        "    predictions = model(X)\n",
        "    return [x.cpu() for x in X], predictions\n",
        "def predict(model, data_loader, device = \"cpu\"):\n",
        "    \"\"\"\n",
        "    Gets the predictions for a batch of data.\n",
        "    Inputs\n",
        "        model: torch model\n",
        "        data_loader: torch Dataloader\n",
        "        device: str\n",
        "            Indicates which device (CPU/GPU) to use.\n",
        "    Returns\n",
        "        images: list\n",
        "            List of tensors of the images.\n",
        "        predictions: list\n",
        "            List of dicts containing the predictions for the \n",
        "            bounding boxes, labels and confidence scores.\n",
        "    \"\"\"\n",
        "    images = []\n",
        "    predictions = []\n",
        "    for i, batch in enumerate(data_loader):\n",
        "        X, p = predict_batch(batch, model, device)\n",
        "        images = images + X\n",
        "        predictions = predictions + p\n",
        "    \n",
        "    return images, predictions"
      ],
      "metadata": {
        "id": "0LWzCIbD1P1B"
      },
      "execution_count": 12,
      "outputs": []
    },
    {
      "cell_type": "code",
      "source": [
        "def decode_prediction(prediction, \n",
        "                      score_threshold = 0.1, \n",
        "                      nms_iou_threshold = 0.2):\n",
        "    \"\"\"\n",
        "    Inputs\n",
        "        prediction: dict\n",
        "        score_threshold: float\n",
        "        nms_iou_threshold: float\n",
        "    Returns\n",
        "        prediction: tuple\n",
        "    \"\"\"\n",
        "    boxes = prediction[\"boxes\"]\n",
        "    scores = prediction[\"scores\"]\n",
        "    labels = prediction[\"labels\"]\n",
        "    # Remove any low-score predictions.\n",
        "    if score_threshold is not None:\n",
        "        want = scores > score_threshold\n",
        "        boxes = boxes[want]\n",
        "        scores = scores[want]\n",
        "        labels = labels[want]\n",
        "    # Remove any overlapping bounding boxes using NMS.\n",
        "    if nms_iou_threshold is not None:\n",
        "        want = torchvision.ops.nms(boxes = boxes, scores = scores, \n",
        "                                iou_threshold = nms_iou_threshold)\n",
        "        boxes = boxes[want]\n",
        "        scores = scores[want]\n",
        "        labels = labels[want]\n",
        "    return (boxes.cpu().numpy(), \n",
        "            labels.cpu().numpy(), \n",
        "            scores.cpu().numpy())"
      ],
      "metadata": {
        "id": "IPXGtRJK1bHg"
      },
      "execution_count": 32,
      "outputs": []
    },
    {
      "cell_type": "code",
      "source": [
        "import pickle\n",
        "\n",
        "# Load from file\n",
        "pkl_filename = \"fasterrcnn_model2.pkl\"\n",
        "with open(pkl_filename, 'rb') as file:\n",
        "    model = pickle.load(file)"
      ],
      "metadata": {
        "id": "CKxR5QXB1EoZ"
      },
      "execution_count": 15,
      "outputs": []
    },
    {
      "cell_type": "code",
      "source": [
        "images, predictions = predict(model, test_dl, device)"
      ],
      "metadata": {
        "id": "BZl2NnPo1KoL"
      },
      "execution_count": 33,
      "outputs": []
    },
    {
      "cell_type": "code",
      "source": [
        "img_index = 3\n",
        "boxes, labels, scores = decode_prediction(predictions[img_index])\n",
        "fig, ax = plt.subplots(figsize = [5, 5])\n",
        "ax.imshow(images[img_index].permute(1, 2, 0).numpy())\n",
        "for i, b in enumerate(boxes):\n",
        "    rect = patches.Rectangle(b[:2].astype(int),\n",
        "                             (b[2] - b[0]).astype(int),\n",
        "                             (b[3] - b[1]).astype(int),\n",
        "                             linewidth = 1,\n",
        "                             edgecolor = \"r\",\n",
        "                             facecolor = \"none\")\n",
        "    ax.add_patch(rect)\n",
        "    ax.text(b[0].astype(int),\n",
        "            b[1].astype(int) - 5,\n",
        "            \"{} : {:.3f}\".format(reverse_label_dict[labels[i]],\n",
        "            scores[i]), color = \"r\")\n",
        "print(f\"The number of identified objects is {len(boxes)}\")\n",
        "plt.show()\n"
      ],
      "metadata": {
        "colab": {
          "base_uri": "https://localhost:8080/",
          "height": 340
        },
        "id": "b7A67oiS1OF1",
        "outputId": "3bbf3c02-c6d4-406c-dea8-5445ee161f1e"
      },
      "execution_count": 47,
      "outputs": [
        {
          "output_type": "stream",
          "name": "stdout",
          "text": [
            "The number of identified objects is 1\n"
          ]
        },
        {
          "output_type": "display_data",
          "data": {
            "text/plain": [
              "<Figure size 360x360 with 1 Axes>"
            ],
            "image/png": "[encoded data removed]"
          },
          "metadata": {
            "needs_background": "light"
          }
        }
      ]
    }
  ]
}